{
  "nbformat": 4,
  "nbformat_minor": 0,
  "metadata": {
    "colab": {
      "name": "FairMOT-example.ipynb",
      "provenance": [],
      "authorship_tag": "ABX9TyOyXKly7x4xJbTSZeHGaI+F",
      "include_colab_link": true
    },
    "kernelspec": {
      "name": "python3",
      "display_name": "Python 3"
    },
    "language_info": {
      "name": "python"
    }
  },
  "cells": [
    {
      "cell_type": "markdown",
      "metadata": {
        "id": "view-in-github",
        "colab_type": "text"
      },
      "source": [
        "<a href=\"https://colab.research.google.com/github/umairjavaid/FairMOT-example/blob/main/FairMOT_example.ipynb\" target=\"_parent\"><img src=\"https://colab.research.google.com/assets/colab-badge.svg\" alt=\"Open In Colab\"/></a>"
      ]
    },
    {
      "cell_type": "code",
      "metadata": {
        "colab": {
          "base_uri": "https://localhost:8080/"
        },
        "id": "bx7DUWgMN-sd",
        "outputId": "54793abe-563d-4c2f-a16d-58c4ed935a9d"
      },
      "source": [
        "!git clone https://github.com/umairjavaid/FairMOT-example.git"
      ],
      "execution_count": 1,
      "outputs": [
        {
          "output_type": "stream",
          "text": [
            "Cloning into 'FairMOT-example'...\n",
            "remote: Enumerating objects: 11, done.\u001b[K\n",
            "remote: Counting objects: 100% (11/11), done.\u001b[K\n",
            "remote: Compressing objects: 100% (9/9), done.\u001b[K\n",
            "remote: Total 11 (delta 3), reused 0 (delta 0), pack-reused 0\u001b[K\n",
            "Unpacking objects: 100% (11/11), done.\n"
          ],
          "name": "stdout"
        }
      ]
    },
    {
      "cell_type": "code",
      "metadata": {
        "colab": {
          "base_uri": "https://localhost:8080/"
        },
        "id": "WiJCJN19OiDn",
        "outputId": "f0e50bf0-c846-4916-b93e-a044fb166064"
      },
      "source": [
        "%cd FairMOT-example/\n",
        "!ls"
      ],
      "execution_count": 2,
      "outputs": [
        {
          "output_type": "stream",
          "text": [
            "/content/FairMOT-example\n",
            "controller.py  fairmot.py  img_preprocess.py  LICENSE  README.md\n"
          ],
          "name": "stdout"
        }
      ]
    },
    {
      "cell_type": "code",
      "metadata": {
        "colab": {
          "base_uri": "https://localhost:8080/"
        },
        "id": "l83abcgDOwyS",
        "outputId": "f0068a1e-e89a-49ce-b076-fe6e20a04c39"
      },
      "source": [
        "!git remote -v"
      ],
      "execution_count": 3,
      "outputs": [
        {
          "output_type": "stream",
          "text": [
            "origin\thttps://github.com/umairjavaid/FairMOT-example.git (fetch)\n",
            "origin\thttps://github.com/umairjavaid/FairMOT-example.git (push)\n"
          ],
          "name": "stdout"
        }
      ]
    },
    {
      "cell_type": "code",
      "metadata": {
        "id": "PhfDnAB9Pf1V"
      },
      "source": [
        "!git config --global user.email \"bscs13024@itu.edu.pk\"\n",
        "!git config --global user.name \"umair javaid\""
      ],
      "execution_count": 8,
      "outputs": []
    },
    {
      "cell_type": "code",
      "metadata": {
        "colab": {
          "base_uri": "https://localhost:8080/"
        },
        "id": "GWbC1TXbPDnD",
        "outputId": "d6d458b5-7ab8-4fb3-86f8-51564f251d10"
      },
      "source": [
        "!git commit -am \"shah\""
      ],
      "execution_count": 9,
      "outputs": [
        {
          "output_type": "stream",
          "text": [
            "On branch main\n",
            "Your branch is up to date with 'origin/main'.\n",
            "\n",
            "nothing to commit, working tree clean\n"
          ],
          "name": "stdout"
        }
      ]
    },
    {
      "cell_type": "code",
      "metadata": {
        "colab": {
          "base_uri": "https://localhost:8080/"
        },
        "id": "-2qXWUzaQPxH",
        "outputId": "51ab815f-ff7f-4acd-a246-d2c61ea14069"
      },
      "source": [
        "!git push origin main"
      ],
      "execution_count": 10,
      "outputs": [
        {
          "output_type": "stream",
          "text": [
            "fatal: could not read Username for 'https://github.com': No such device or address\n"
          ],
          "name": "stdout"
        }
      ]
    },
    {
      "cell_type": "code",
      "metadata": {
        "colab": {
          "base_uri": "https://localhost:8080/"
        },
        "id": "lfCvoRrCONx9",
        "outputId": "4e290ed0-8d92-4433-d9c5-41cceed0f513"
      },
      "source": [
        "!git remote -v"
      ],
      "execution_count": 11,
      "outputs": [
        {
          "output_type": "stream",
          "text": [
            "origin\thttps://github.com/umairjavaid/FairMOT-example.git (fetch)\n",
            "origin\thttps://github.com/umairjavaid/FairMOT-example.git (push)\n"
          ],
          "name": "stdout"
        }
      ]
    },
    {
      "cell_type": "code",
      "metadata": {
        "id": "hm3TEaAeTyG4"
      },
      "source": [
        "!git remote add hub git@github.com:umairjavaid/FairMOT-example.git"
      ],
      "execution_count": 13,
      "outputs": []
    },
    {
      "cell_type": "code",
      "metadata": {
        "colab": {
          "base_uri": "https://localhost:8080/"
        },
        "id": "psG27gJaUKw5",
        "outputId": "16a74796-c3dc-4b75-8871-508be54ee9b9"
      },
      "source": [
        "!git remote -v"
      ],
      "execution_count": 15,
      "outputs": [
        {
          "output_type": "stream",
          "text": [
            "hub\tgit@github.com:umairjavaid/FairMOT-example.git (fetch)\n",
            "hub\tgit@github.com:umairjavaid/FairMOT-example.git (push)\n",
            "origin\thttps://github.com/umairjavaid/FairMOT-example.git (fetch)\n",
            "origin\thttps://github.com/umairjavaid/FairMOT-example.git (push)\n"
          ],
          "name": "stdout"
        }
      ]
    },
    {
      "cell_type": "code",
      "metadata": {
        "colab": {
          "base_uri": "https://localhost:8080/"
        },
        "id": "PLq3fU-vUPdU",
        "outputId": "2b006655-da06-4611-8756-51e3d8038a05"
      },
      "source": [
        "!git push  hub main"
      ],
      "execution_count": 16,
      "outputs": [
        {
          "output_type": "stream",
          "text": [
            "Host key verification failed.\r\n",
            "fatal: Could not read from remote repository.\n",
            "\n",
            "Please make sure you have the correct access rights\n",
            "and the repository exists.\n"
          ],
          "name": "stdout"
        }
      ]
    },
    {
      "cell_type": "code",
      "metadata": {
        "id": "58PrwyLoUVJj"
      },
      "source": [
        ""
      ],
      "execution_count": null,
      "outputs": []
    }
  ]
}